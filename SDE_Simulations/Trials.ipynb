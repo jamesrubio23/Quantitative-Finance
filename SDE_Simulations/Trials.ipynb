{
 "cells": [
  {
   "cell_type": "markdown",
   "id": "74628617",
   "metadata": {},
   "source": [
    "Crearemos clases para los difrentes movimientos"
   ]
  },
  {
   "cell_type": "code",
   "execution_count": 1,
   "id": "74c50f78",
   "metadata": {},
   "outputs": [],
   "source": [
    "import numpy as np\n",
    "import matplotlib.pyplot as plt\n",
    "np.random.seed(12)"
   ]
  },
  {
   "cell_type": "code",
   "execution_count": null,
   "id": "6f4b439c",
   "metadata": {},
   "outputs": [],
   "source": [
    "def f_drift(t):\n",
    "    return 5*t\n",
    "\n",
    "def f_volatitility(t):\n",
    "    return 2*t-2\n",
    "\n",
    "def gbm(drift, volatility, X0, T, dt):\n",
    "    N=int(T/dt)\n",
    "    t=np.linspace(0,t,N+1)\n",
    "    Xt=np.zeros(N+1)\n",
    "    Xt[0] = X0\n",
    "\n",
    "    dWt= np.random.normal(0, np.sqrt(dt), N)\n",
    "\n",
    "    Ito_integral=np.zeros(N+1)\n",
    "    normal_integral=np.zeros(N+1)\n",
    "    Integral=np.zeros(N+1)\n",
    "\n",
    "    for i in range(1,N+1):\n",
    "        dXt = drift[i-1]*Xt*dt + volatility[i-1]*Xt*dWt\n",
    "        Xt[i] = Xt[i-1]+dXt\n",
    "\n",
    "        Ito_integral[i] = Ito_integral[i-1] + volatility(t[i-1]) * Xt[i-1]* dWt[i-1]*dt\n",
    "        normal_integral[i] = normal_integral[i-1] + 0.5 * (drift(t[i-1]) * Xt[i-1] + drift(t[i]) * Xt[i]) * dt\n",
    "        Integral[i] = normal_integral[i] + Ito_integral[i]\n",
    "\n",
    "    return t, Xt, normal_integral, Ito_integral, Integral\n"
   ]
  },
  {
   "cell_type": "code",
   "execution_count": null,
   "id": "6f9391ee",
   "metadata": {},
   "outputs": [],
   "source": [
    "class GBM:\n",
    "    def __init__(self, drift, volatility, X0, T, dt):\n",
    "        self.drift = drift\n",
    "        self.volatility = volatility\n",
    "        self.X0 =X0\n",
    "        self.T=T\n",
    "        self.dt=dt\n",
    "\n",
    "        #If they are inserted as functions of time\n",
    "        if isinstance(drift, (int, float)):\n",
    "            self.drift = lambda t: drift\n",
    "        else:\n",
    "            self.drift = drift\n",
    "        \n",
    "        if isinstance(volatility, (int, float)):\n",
    "            self.volatility = lambda t: volatility\n",
    "        else:\n",
    "            self.volatility = volatility\n",
    "\n",
    "        #Calculate N and vector t\n",
    "        self.N = int(self.T/self.dt)\n",
    "        self.t = np.linspace(0, self.T, self.N + 1)\n",
    "\n",
    "    def simulate_path(self):\n",
    "        pass\n",
    "    def plot_paths(self):\n",
    "        fig, axis = plt.subplots(1,2,figsize=(10,6))\n",
    "        pass\n",
    "    def plot_random_path(self):\n",
    "        pass\n",
    "    def plot_integrals(self):\n",
    "        pass"
   ]
  }
 ],
 "metadata": {
  "kernelspec": {
   "display_name": "sde-quant-40IAe-b--py3.11",
   "language": "python",
   "name": "python3"
  },
  "language_info": {
   "codemirror_mode": {
    "name": "ipython",
    "version": 3
   },
   "file_extension": ".py",
   "mimetype": "text/x-python",
   "name": "python",
   "nbconvert_exporter": "python",
   "pygments_lexer": "ipython3",
   "version": "3.11.4"
  }
 },
 "nbformat": 4,
 "nbformat_minor": 5
}
